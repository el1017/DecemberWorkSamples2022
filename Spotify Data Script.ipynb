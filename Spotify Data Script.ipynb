{
 "cells": [
  {
   "cell_type": "markdown",
   "id": "8b8c2e28",
   "metadata": {},
   "source": [
    "Spotify 'StreamingHistory0' data from May 9th, 2022 - October 14th, 2022"
   ]
  },
  {
   "cell_type": "code",
   "execution_count": 12,
   "id": "7a8d4015",
   "metadata": {},
   "outputs": [],
   "source": [
    "import pandas as pd\n",
    "import matplotlib.pyplot as plt\n",
    "import numpy as np\n",
    "import seaborn as sns\n",
    "import datetime as date"
   ]
  },
  {
   "cell_type": "markdown",
   "id": "ae5b7d2c",
   "metadata": {},
   "source": [
    "Import Excel data"
   ]
  },
  {
   "cell_type": "code",
   "execution_count": 13,
   "id": "70d7dcf4",
   "metadata": {},
   "outputs": [
    {
     "data": {
      "text/html": [
       "<div>\n",
       "<style scoped>\n",
       "    .dataframe tbody tr th:only-of-type {\n",
       "        vertical-align: middle;\n",
       "    }\n",
       "\n",
       "    .dataframe tbody tr th {\n",
       "        vertical-align: top;\n",
       "    }\n",
       "\n",
       "    .dataframe thead th {\n",
       "        text-align: right;\n",
       "    }\n",
       "</style>\n",
       "<table border=\"1\" class=\"dataframe\">\n",
       "  <thead>\n",
       "    <tr style=\"text-align: right;\">\n",
       "      <th></th>\n",
       "      <th>endTime</th>\n",
       "      <th>date</th>\n",
       "      <th>Wkday</th>\n",
       "      <th>time</th>\n",
       "      <th>artistName</th>\n",
       "      <th>trackName</th>\n",
       "      <th>msPlayed</th>\n",
       "      <th>minPlayed</th>\n",
       "      <th>Include Song</th>\n",
       "    </tr>\n",
       "  </thead>\n",
       "  <tbody>\n",
       "    <tr>\n",
       "      <th>0</th>\n",
       "      <td>2022-05-09 19:38</td>\n",
       "      <td>2022-05-09</td>\n",
       "      <td>Mon\\n</td>\n",
       "      <td>19:38</td>\n",
       "      <td>Punnany Massif</td>\n",
       "      <td>Élvezd</td>\n",
       "      <td>7381</td>\n",
       "      <td>0.123017</td>\n",
       "      <td>No\\n</td>\n",
       "    </tr>\n",
       "    <tr>\n",
       "      <th>1</th>\n",
       "      <td>2022-08-17 13:01</td>\n",
       "      <td>2022-08-17</td>\n",
       "      <td>Wed</td>\n",
       "      <td>13:01</td>\n",
       "      <td>DJ Khaled</td>\n",
       "      <td>STAYING ALIVE (feat. Drake &amp; Lil Baby)</td>\n",
       "      <td>178176</td>\n",
       "      <td>2.969600</td>\n",
       "      <td>Yes\\n</td>\n",
       "    </tr>\n",
       "    <tr>\n",
       "      <th>2</th>\n",
       "      <td>2022-08-17 13:05</td>\n",
       "      <td>2022-08-17</td>\n",
       "      <td>Wed</td>\n",
       "      <td>13:05</td>\n",
       "      <td>NAV</td>\n",
       "      <td>Never Sleep (with Lil Baby feat. Travis Scott)</td>\n",
       "      <td>185785</td>\n",
       "      <td>3.096417</td>\n",
       "      <td>Yes\\n</td>\n",
       "    </tr>\n",
       "    <tr>\n",
       "      <th>3</th>\n",
       "      <td>2022-08-17 13:06</td>\n",
       "      <td>2022-08-17</td>\n",
       "      <td>Wed</td>\n",
       "      <td>13:06</td>\n",
       "      <td>Nardo Wick</td>\n",
       "      <td>Dah Dah DahDah</td>\n",
       "      <td>20224</td>\n",
       "      <td>0.337067</td>\n",
       "      <td>No\\n</td>\n",
       "    </tr>\n",
       "    <tr>\n",
       "      <th>4</th>\n",
       "      <td>2022-08-17 13:06</td>\n",
       "      <td>2022-08-17</td>\n",
       "      <td>Wed</td>\n",
       "      <td>13:06</td>\n",
       "      <td>DaBaby</td>\n",
       "      <td>WAITRESS</td>\n",
       "      <td>56876</td>\n",
       "      <td>0.947933</td>\n",
       "      <td>No\\n</td>\n",
       "    </tr>\n",
       "    <tr>\n",
       "      <th>...</th>\n",
       "      <td>...</td>\n",
       "      <td>...</td>\n",
       "      <td>...</td>\n",
       "      <td>...</td>\n",
       "      <td>...</td>\n",
       "      <td>...</td>\n",
       "      <td>...</td>\n",
       "      <td>...</td>\n",
       "      <td>...</td>\n",
       "    </tr>\n",
       "    <tr>\n",
       "      <th>347</th>\n",
       "      <td>2022-10-14 23:45</td>\n",
       "      <td>2022-10-14</td>\n",
       "      <td>Fri</td>\n",
       "      <td>23:45</td>\n",
       "      <td>Pharrell Williams</td>\n",
       "      <td>Just a Cloud Away</td>\n",
       "      <td>176078</td>\n",
       "      <td>2.934633</td>\n",
       "      <td>Yes\\n</td>\n",
       "    </tr>\n",
       "    <tr>\n",
       "      <th>348</th>\n",
       "      <td>2022-10-14 23:48</td>\n",
       "      <td>2022-10-14</td>\n",
       "      <td>Fri</td>\n",
       "      <td>23:48</td>\n",
       "      <td>Camila Cabello</td>\n",
       "      <td>Don't Go Yet</td>\n",
       "      <td>164842</td>\n",
       "      <td>2.747367</td>\n",
       "      <td>Yes\\n</td>\n",
       "    </tr>\n",
       "    <tr>\n",
       "      <th>349</th>\n",
       "      <td>2022-10-14 23:51</td>\n",
       "      <td>2022-10-14</td>\n",
       "      <td>Fri</td>\n",
       "      <td>23:51</td>\n",
       "      <td>Sigala</td>\n",
       "      <td>Lullaby</td>\n",
       "      <td>204022</td>\n",
       "      <td>3.400367</td>\n",
       "      <td>Yes\\n</td>\n",
       "    </tr>\n",
       "    <tr>\n",
       "      <th>350</th>\n",
       "      <td>2022-10-14 23:55</td>\n",
       "      <td>2022-10-14</td>\n",
       "      <td>Fri</td>\n",
       "      <td>23:55</td>\n",
       "      <td>BTS</td>\n",
       "      <td>Dynamite</td>\n",
       "      <td>199053</td>\n",
       "      <td>3.317550</td>\n",
       "      <td>Yes\\n</td>\n",
       "    </tr>\n",
       "    <tr>\n",
       "      <th>351</th>\n",
       "      <td>2022-10-14 23:59</td>\n",
       "      <td>2022-10-14</td>\n",
       "      <td>Fri</td>\n",
       "      <td>23:59</td>\n",
       "      <td>Little Mix</td>\n",
       "      <td>Power</td>\n",
       "      <td>247840</td>\n",
       "      <td>4.130667</td>\n",
       "      <td>Yes\\n</td>\n",
       "    </tr>\n",
       "  </tbody>\n",
       "</table>\n",
       "<p>352 rows × 9 columns</p>\n",
       "</div>"
      ],
      "text/plain": [
       "              endTime        date  Wkday   time         artistName  \\\n",
       "0    2022-05-09 19:38  2022-05-09  Mon\\n  19:38     Punnany Massif   \n",
       "1    2022-08-17 13:01  2022-08-17    Wed  13:01          DJ Khaled   \n",
       "2    2022-08-17 13:05  2022-08-17    Wed  13:05                NAV   \n",
       "3    2022-08-17 13:06  2022-08-17    Wed  13:06         Nardo Wick   \n",
       "4    2022-08-17 13:06  2022-08-17    Wed  13:06             DaBaby   \n",
       "..                ...         ...    ...    ...                ...   \n",
       "347  2022-10-14 23:45  2022-10-14    Fri  23:45  Pharrell Williams   \n",
       "348  2022-10-14 23:48  2022-10-14    Fri  23:48     Camila Cabello   \n",
       "349  2022-10-14 23:51  2022-10-14    Fri  23:51             Sigala   \n",
       "350  2022-10-14 23:55  2022-10-14    Fri  23:55                BTS   \n",
       "351  2022-10-14 23:59  2022-10-14    Fri  23:59         Little Mix   \n",
       "\n",
       "                                          trackName  msPlayed  minPlayed  \\\n",
       "0                                            Élvezd      7381   0.123017   \n",
       "1            STAYING ALIVE (feat. Drake & Lil Baby)    178176   2.969600   \n",
       "2    Never Sleep (with Lil Baby feat. Travis Scott)    185785   3.096417   \n",
       "3                                    Dah Dah DahDah     20224   0.337067   \n",
       "4                                          WAITRESS     56876   0.947933   \n",
       "..                                              ...       ...        ...   \n",
       "347                               Just a Cloud Away    176078   2.934633   \n",
       "348                                    Don't Go Yet    164842   2.747367   \n",
       "349                                         Lullaby    204022   3.400367   \n",
       "350                                        Dynamite    199053   3.317550   \n",
       "351                                           Power    247840   4.130667   \n",
       "\n",
       "    Include Song  \n",
       "0           No\\n  \n",
       "1          Yes\\n  \n",
       "2          Yes\\n  \n",
       "3           No\\n  \n",
       "4           No\\n  \n",
       "..           ...  \n",
       "347        Yes\\n  \n",
       "348        Yes\\n  \n",
       "349        Yes\\n  \n",
       "350        Yes\\n  \n",
       "351        Yes\\n  \n",
       "\n",
       "[352 rows x 9 columns]"
      ]
     },
     "execution_count": 13,
     "metadata": {},
     "output_type": "execute_result"
    }
   ],
   "source": [
    "df = pd.read_excel(r'C:\\Users\\duprase\\Downloads\\Spotify\\StreamingHistory1.json.xlsx')\n",
    "df\n",
    "\n",
    "#df = pd.read_excel(\"StreamingHistory1.json.xlsx\")\n",
    "#df"
   ]
  },
  {
   "cell_type": "code",
   "execution_count": 14,
   "id": "fb5ff7a8",
   "metadata": {},
   "outputs": [
    {
     "data": {
      "text/plain": [
       "(352, 9)"
      ]
     },
     "execution_count": 14,
     "metadata": {},
     "output_type": "execute_result"
    }
   ],
   "source": [
    "df.shape"
   ]
  },
  {
   "cell_type": "code",
   "execution_count": 15,
   "id": "d7450958",
   "metadata": {},
   "outputs": [],
   "source": [
    "def load_data(file):\n",
    "    return pd.read_excel(file, may = \",\", index_col = False, header=0)"
   ]
  },
  {
   "cell_type": "code",
   "execution_count": 16,
   "id": "3b0a86a8",
   "metadata": {
    "scrolled": true
   },
   "outputs": [],
   "source": [
    "#df = pd.read_excel(\"StreamingHistory1.json.xlsx\")\n",
    "#df"
   ]
  },
  {
   "cell_type": "code",
   "execution_count": 17,
   "id": "e5c7f67b",
   "metadata": {},
   "outputs": [],
   "source": [
    "skippedsongs = df[ df['Include Song'] == \"No\"].index\n",
    "df.drop(skippedsongs, inplace = True)"
   ]
  },
  {
   "cell_type": "code",
   "execution_count": 18,
   "id": "7e747769",
   "metadata": {},
   "outputs": [
    {
     "data": {
      "text/html": [
       "<div>\n",
       "<style scoped>\n",
       "    .dataframe tbody tr th:only-of-type {\n",
       "        vertical-align: middle;\n",
       "    }\n",
       "\n",
       "    .dataframe tbody tr th {\n",
       "        vertical-align: top;\n",
       "    }\n",
       "\n",
       "    .dataframe thead th {\n",
       "        text-align: right;\n",
       "    }\n",
       "</style>\n",
       "<table border=\"1\" class=\"dataframe\">\n",
       "  <thead>\n",
       "    <tr style=\"text-align: right;\">\n",
       "      <th></th>\n",
       "      <th>endTime</th>\n",
       "      <th>date</th>\n",
       "      <th>Wkday</th>\n",
       "      <th>time</th>\n",
       "      <th>artistName</th>\n",
       "      <th>trackName</th>\n",
       "      <th>msPlayed</th>\n",
       "      <th>minPlayed</th>\n",
       "      <th>Include Song</th>\n",
       "    </tr>\n",
       "  </thead>\n",
       "  <tbody>\n",
       "    <tr>\n",
       "      <th>0</th>\n",
       "      <td>2022-05-09 19:38</td>\n",
       "      <td>2022-05-09</td>\n",
       "      <td>Mon\\n</td>\n",
       "      <td>19:38</td>\n",
       "      <td>Punnany Massif</td>\n",
       "      <td>Élvezd</td>\n",
       "      <td>7381</td>\n",
       "      <td>0.123017</td>\n",
       "      <td>No\\n</td>\n",
       "    </tr>\n",
       "    <tr>\n",
       "      <th>1</th>\n",
       "      <td>2022-08-17 13:01</td>\n",
       "      <td>2022-08-17</td>\n",
       "      <td>Wed</td>\n",
       "      <td>13:01</td>\n",
       "      <td>DJ Khaled</td>\n",
       "      <td>STAYING ALIVE (feat. Drake &amp; Lil Baby)</td>\n",
       "      <td>178176</td>\n",
       "      <td>2.969600</td>\n",
       "      <td>Yes\\n</td>\n",
       "    </tr>\n",
       "    <tr>\n",
       "      <th>2</th>\n",
       "      <td>2022-08-17 13:05</td>\n",
       "      <td>2022-08-17</td>\n",
       "      <td>Wed</td>\n",
       "      <td>13:05</td>\n",
       "      <td>NAV</td>\n",
       "      <td>Never Sleep (with Lil Baby feat. Travis Scott)</td>\n",
       "      <td>185785</td>\n",
       "      <td>3.096417</td>\n",
       "      <td>Yes\\n</td>\n",
       "    </tr>\n",
       "    <tr>\n",
       "      <th>3</th>\n",
       "      <td>2022-08-17 13:06</td>\n",
       "      <td>2022-08-17</td>\n",
       "      <td>Wed</td>\n",
       "      <td>13:06</td>\n",
       "      <td>Nardo Wick</td>\n",
       "      <td>Dah Dah DahDah</td>\n",
       "      <td>20224</td>\n",
       "      <td>0.337067</td>\n",
       "      <td>No\\n</td>\n",
       "    </tr>\n",
       "    <tr>\n",
       "      <th>4</th>\n",
       "      <td>2022-08-17 13:06</td>\n",
       "      <td>2022-08-17</td>\n",
       "      <td>Wed</td>\n",
       "      <td>13:06</td>\n",
       "      <td>DaBaby</td>\n",
       "      <td>WAITRESS</td>\n",
       "      <td>56876</td>\n",
       "      <td>0.947933</td>\n",
       "      <td>No\\n</td>\n",
       "    </tr>\n",
       "    <tr>\n",
       "      <th>...</th>\n",
       "      <td>...</td>\n",
       "      <td>...</td>\n",
       "      <td>...</td>\n",
       "      <td>...</td>\n",
       "      <td>...</td>\n",
       "      <td>...</td>\n",
       "      <td>...</td>\n",
       "      <td>...</td>\n",
       "      <td>...</td>\n",
       "    </tr>\n",
       "    <tr>\n",
       "      <th>347</th>\n",
       "      <td>2022-10-14 23:45</td>\n",
       "      <td>2022-10-14</td>\n",
       "      <td>Fri</td>\n",
       "      <td>23:45</td>\n",
       "      <td>Pharrell Williams</td>\n",
       "      <td>Just a Cloud Away</td>\n",
       "      <td>176078</td>\n",
       "      <td>2.934633</td>\n",
       "      <td>Yes\\n</td>\n",
       "    </tr>\n",
       "    <tr>\n",
       "      <th>348</th>\n",
       "      <td>2022-10-14 23:48</td>\n",
       "      <td>2022-10-14</td>\n",
       "      <td>Fri</td>\n",
       "      <td>23:48</td>\n",
       "      <td>Camila Cabello</td>\n",
       "      <td>Don't Go Yet</td>\n",
       "      <td>164842</td>\n",
       "      <td>2.747367</td>\n",
       "      <td>Yes\\n</td>\n",
       "    </tr>\n",
       "    <tr>\n",
       "      <th>349</th>\n",
       "      <td>2022-10-14 23:51</td>\n",
       "      <td>2022-10-14</td>\n",
       "      <td>Fri</td>\n",
       "      <td>23:51</td>\n",
       "      <td>Sigala</td>\n",
       "      <td>Lullaby</td>\n",
       "      <td>204022</td>\n",
       "      <td>3.400367</td>\n",
       "      <td>Yes\\n</td>\n",
       "    </tr>\n",
       "    <tr>\n",
       "      <th>350</th>\n",
       "      <td>2022-10-14 23:55</td>\n",
       "      <td>2022-10-14</td>\n",
       "      <td>Fri</td>\n",
       "      <td>23:55</td>\n",
       "      <td>BTS</td>\n",
       "      <td>Dynamite</td>\n",
       "      <td>199053</td>\n",
       "      <td>3.317550</td>\n",
       "      <td>Yes\\n</td>\n",
       "    </tr>\n",
       "    <tr>\n",
       "      <th>351</th>\n",
       "      <td>2022-10-14 23:59</td>\n",
       "      <td>2022-10-14</td>\n",
       "      <td>Fri</td>\n",
       "      <td>23:59</td>\n",
       "      <td>Little Mix</td>\n",
       "      <td>Power</td>\n",
       "      <td>247840</td>\n",
       "      <td>4.130667</td>\n",
       "      <td>Yes\\n</td>\n",
       "    </tr>\n",
       "  </tbody>\n",
       "</table>\n",
       "<p>352 rows × 9 columns</p>\n",
       "</div>"
      ],
      "text/plain": [
       "              endTime        date  Wkday   time         artistName  \\\n",
       "0    2022-05-09 19:38  2022-05-09  Mon\\n  19:38     Punnany Massif   \n",
       "1    2022-08-17 13:01  2022-08-17    Wed  13:01          DJ Khaled   \n",
       "2    2022-08-17 13:05  2022-08-17    Wed  13:05                NAV   \n",
       "3    2022-08-17 13:06  2022-08-17    Wed  13:06         Nardo Wick   \n",
       "4    2022-08-17 13:06  2022-08-17    Wed  13:06             DaBaby   \n",
       "..                ...         ...    ...    ...                ...   \n",
       "347  2022-10-14 23:45  2022-10-14    Fri  23:45  Pharrell Williams   \n",
       "348  2022-10-14 23:48  2022-10-14    Fri  23:48     Camila Cabello   \n",
       "349  2022-10-14 23:51  2022-10-14    Fri  23:51             Sigala   \n",
       "350  2022-10-14 23:55  2022-10-14    Fri  23:55                BTS   \n",
       "351  2022-10-14 23:59  2022-10-14    Fri  23:59         Little Mix   \n",
       "\n",
       "                                          trackName  msPlayed  minPlayed  \\\n",
       "0                                            Élvezd      7381   0.123017   \n",
       "1            STAYING ALIVE (feat. Drake & Lil Baby)    178176   2.969600   \n",
       "2    Never Sleep (with Lil Baby feat. Travis Scott)    185785   3.096417   \n",
       "3                                    Dah Dah DahDah     20224   0.337067   \n",
       "4                                          WAITRESS     56876   0.947933   \n",
       "..                                              ...       ...        ...   \n",
       "347                               Just a Cloud Away    176078   2.934633   \n",
       "348                                    Don't Go Yet    164842   2.747367   \n",
       "349                                         Lullaby    204022   3.400367   \n",
       "350                                        Dynamite    199053   3.317550   \n",
       "351                                           Power    247840   4.130667   \n",
       "\n",
       "    Include Song  \n",
       "0           No\\n  \n",
       "1          Yes\\n  \n",
       "2          Yes\\n  \n",
       "3           No\\n  \n",
       "4           No\\n  \n",
       "..           ...  \n",
       "347        Yes\\n  \n",
       "348        Yes\\n  \n",
       "349        Yes\\n  \n",
       "350        Yes\\n  \n",
       "351        Yes\\n  \n",
       "\n",
       "[352 rows x 9 columns]"
      ]
     },
     "execution_count": 18,
     "metadata": {},
     "output_type": "execute_result"
    }
   ],
   "source": [
    "df"
   ]
  },
  {
   "cell_type": "code",
   "execution_count": 19,
   "id": "dca7ae7c",
   "metadata": {},
   "outputs": [
    {
     "data": {
      "text/plain": [
       "endTime         352\n",
       "date            352\n",
       "Wkday           352\n",
       "time            352\n",
       "artistName      352\n",
       "trackName       352\n",
       "msPlayed        352\n",
       "minPlayed       352\n",
       "Include Song    352\n",
       "dtype: int64"
      ]
     },
     "execution_count": 19,
     "metadata": {},
     "output_type": "execute_result"
    }
   ],
   "source": [
    "df.count()"
   ]
  },
  {
   "cell_type": "code",
   "execution_count": 20,
   "id": "a4349254",
   "metadata": {},
   "outputs": [
    {
     "name": "stdout",
     "output_type": "stream",
     "text": [
      "(352, 9)\n"
     ]
    }
   ],
   "source": [
    "print(df.shape)"
   ]
  },
  {
   "cell_type": "markdown",
   "id": "42d8b292",
   "metadata": {},
   "source": [
    "Goal: What day of the week are songs streamed most?"
   ]
  },
  {
   "cell_type": "code",
   "execution_count": 21,
   "id": "aef39fd4",
   "metadata": {},
   "outputs": [
    {
     "data": {
      "text/html": [
       "<div>\n",
       "<style scoped>\n",
       "    .dataframe tbody tr th:only-of-type {\n",
       "        vertical-align: middle;\n",
       "    }\n",
       "\n",
       "    .dataframe tbody tr th {\n",
       "        vertical-align: top;\n",
       "    }\n",
       "\n",
       "    .dataframe thead th {\n",
       "        text-align: right;\n",
       "    }\n",
       "</style>\n",
       "<table border=\"1\" class=\"dataframe\">\n",
       "  <thead>\n",
       "    <tr style=\"text-align: right;\">\n",
       "      <th></th>\n",
       "      <th>date</th>\n",
       "      <th>Wkday</th>\n",
       "      <th>minPlayed</th>\n",
       "    </tr>\n",
       "  </thead>\n",
       "  <tbody>\n",
       "    <tr>\n",
       "      <th>0</th>\n",
       "      <td>2022-05-09</td>\n",
       "      <td>Mon\\n</td>\n",
       "      <td>0.123017</td>\n",
       "    </tr>\n",
       "    <tr>\n",
       "      <th>1</th>\n",
       "      <td>2022-08-17</td>\n",
       "      <td>Wed</td>\n",
       "      <td>2.969600</td>\n",
       "    </tr>\n",
       "    <tr>\n",
       "      <th>2</th>\n",
       "      <td>2022-08-17</td>\n",
       "      <td>Wed</td>\n",
       "      <td>3.096417</td>\n",
       "    </tr>\n",
       "    <tr>\n",
       "      <th>3</th>\n",
       "      <td>2022-08-17</td>\n",
       "      <td>Wed</td>\n",
       "      <td>0.337067</td>\n",
       "    </tr>\n",
       "    <tr>\n",
       "      <th>4</th>\n",
       "      <td>2022-08-17</td>\n",
       "      <td>Wed</td>\n",
       "      <td>0.947933</td>\n",
       "    </tr>\n",
       "    <tr>\n",
       "      <th>...</th>\n",
       "      <td>...</td>\n",
       "      <td>...</td>\n",
       "      <td>...</td>\n",
       "    </tr>\n",
       "    <tr>\n",
       "      <th>347</th>\n",
       "      <td>2022-10-14</td>\n",
       "      <td>Fri</td>\n",
       "      <td>2.934633</td>\n",
       "    </tr>\n",
       "    <tr>\n",
       "      <th>348</th>\n",
       "      <td>2022-10-14</td>\n",
       "      <td>Fri</td>\n",
       "      <td>2.747367</td>\n",
       "    </tr>\n",
       "    <tr>\n",
       "      <th>349</th>\n",
       "      <td>2022-10-14</td>\n",
       "      <td>Fri</td>\n",
       "      <td>3.400367</td>\n",
       "    </tr>\n",
       "    <tr>\n",
       "      <th>350</th>\n",
       "      <td>2022-10-14</td>\n",
       "      <td>Fri</td>\n",
       "      <td>3.317550</td>\n",
       "    </tr>\n",
       "    <tr>\n",
       "      <th>351</th>\n",
       "      <td>2022-10-14</td>\n",
       "      <td>Fri</td>\n",
       "      <td>4.130667</td>\n",
       "    </tr>\n",
       "  </tbody>\n",
       "</table>\n",
       "<p>352 rows × 3 columns</p>\n",
       "</div>"
      ],
      "text/plain": [
       "           date  Wkday  minPlayed\n",
       "0    2022-05-09  Mon\\n   0.123017\n",
       "1    2022-08-17    Wed   2.969600\n",
       "2    2022-08-17    Wed   3.096417\n",
       "3    2022-08-17    Wed   0.337067\n",
       "4    2022-08-17    Wed   0.947933\n",
       "..          ...    ...        ...\n",
       "347  2022-10-14    Fri   2.934633\n",
       "348  2022-10-14    Fri   2.747367\n",
       "349  2022-10-14    Fri   3.400367\n",
       "350  2022-10-14    Fri   3.317550\n",
       "351  2022-10-14    Fri   4.130667\n",
       "\n",
       "[352 rows x 3 columns]"
      ]
     },
     "execution_count": 21,
     "metadata": {},
     "output_type": "execute_result"
    }
   ],
   "source": [
    "df[['date','Wkday', 'minPlayed']]"
   ]
  },
  {
   "cell_type": "code",
   "execution_count": 22,
   "id": "5130ff53",
   "metadata": {},
   "outputs": [],
   "source": [
    "day = [ 'Mon', 'Tue', 'Wed', 'Thu', 'Fri', 'Sat', 'Sun']"
   ]
  },
  {
   "cell_type": "code",
   "execution_count": 23,
   "id": "61cb86c4",
   "metadata": {},
   "outputs": [
    {
     "data": {
      "text/plain": [
       "Wkday\n",
       "Mon           NaN\n",
       "Tue           NaN\n",
       "Wed    118.914567\n",
       "Thu           NaN\n",
       "Fri    140.999283\n",
       "Sat      3.569250\n",
       "Sun           NaN\n",
       "Name: minPlayed, dtype: float64"
      ]
     },
     "execution_count": 23,
     "metadata": {},
     "output_type": "execute_result"
    }
   ],
   "source": [
    "mins=df.groupby('Wkday')['minPlayed'].sum().reindex(day)\n",
    "mins"
   ]
  },
  {
   "cell_type": "code",
   "execution_count": 27,
   "id": "8d2e3e90",
   "metadata": {},
   "outputs": [
    {
     "data": {
      "image/png": "[encoded data removed]",
      "text/plain": [
       "<Figure size 640x480 with 1 Axes>"
      ]
     },
     "metadata": {},
     "output_type": "display_data"
    }
   ],
   "source": [
    "min_day = df.groupby('Wkday')['minPlayed'].sum().reindex(day)\n",
    "plt.plot(min_day, color='Green', marker=\"o\", mfc='black', mec= \"k\")\n",
    "plt.ylabel('Minutes Listened')\n",
    "plt.title('Total Minutes Listened per Day')\n",
    "plt.show()"
   ]
  },
  {
   "cell_type": "markdown",
   "id": "986335c2",
   "metadata": {},
   "source": [
    "I need to correct information above music was listened to on other days. I need to review the way way data was imported to see why I am getting incorrect visualizations."
   ]
  },
  {
   "cell_type": "markdown",
   "id": "73f53719",
   "metadata": {},
   "source": [
    "Goal: Top 10 Streamed Songs"
   ]
  },
  {
   "cell_type": "code",
   "execution_count": 28,
   "id": "98cf9656",
   "metadata": {},
   "outputs": [
    {
     "data": {
      "text/plain": [
       "Walk                                     12\n",
       "Shoot It Myself (feat. Future)           10\n",
       "I’m So Awesome                           10\n",
       "9 Lives (feat. Polo G & NLE Choppa)       9\n",
       "Heyy                                      7\n",
       "                                         ..\n",
       "Dead Shot (with Lil Uzi Vert)             1\n",
       "Numb                                      1\n",
       "Quevedo: Bzrp Music Sessions, Vol. 52     1\n",
       "Bad Habit                                 1\n",
       "7 Years                                   1\n",
       "Name: trackName, Length: 183, dtype: int64"
      ]
     },
     "execution_count": 28,
     "metadata": {},
     "output_type": "execute_result"
    }
   ],
   "source": [
    "pd.value_counts(df['trackName'])"
   ]
  },
  {
   "cell_type": "code",
   "execution_count": 30,
   "id": "45cde081",
   "metadata": {},
   "outputs": [
    {
     "data": {
      "text/plain": [
       "trackName\n",
       "Walk                                              12\n",
       "I’m So Awesome                                    10\n",
       "Shoot It Myself (feat. Future)                    10\n",
       "9 Lives (feat. Polo G & NLE Choppa)                9\n",
       "Heyy                                               7\n",
       "Blow                                               6\n",
       "WAITRESS                                           6\n",
       "Backstage Passes (feat. Jack Harlow)               6\n",
       "To The Bone (feat. YoungBoy Never Broke Again)     6\n",
       "B.R.O. (Better Ride Out) [feat. Roddy Ricch]       6\n",
       "dtype: int64"
      ]
     },
     "execution_count": 30,
     "metadata": {},
     "output_type": "execute_result"
    }
   ],
   "source": [
    "df.value_counts(df['trackName']).head(10)"
   ]
  },
  {
   "cell_type": "markdown",
   "id": "1a72999a",
   "metadata": {},
   "source": [
    "Bar graph Help:https://dfrieds.com/data-visualizations/bar-plot-python-pandas.html"
   ]
  },
  {
   "cell_type": "code",
   "execution_count": 32,
   "id": "ee219774",
   "metadata": {},
   "outputs": [
    {
     "data": {
      "text/plain": [
       "Text(0.5, 0, 'Songs')"
      ]
     },
     "execution_count": 32,
     "metadata": {},
     "output_type": "execute_result"
    },
    {
     "data": {
      "image/png": "[encoded data removed]",
      "text/plain": [
       "<Figure size 640x480 with 1 Axes>"
      ]
     },
     "metadata": {},
     "output_type": "display_data"
    }
   ],
   "source": [
    "pd.value_counts(df['trackName']).head(10).plot(kind='bar', color='forestgreen')\n",
    "plt.xticks(rotation=45, ha='right')\n",
    "plt.title('Top Ten Streamed Songs')\n",
    "plt.ylabel('Count')\n",
    "plt.xlabel('Songs')"
   ]
  },
  {
   "cell_type": "markdown",
   "id": "94b7aa57",
   "metadata": {},
   "source": [
    "Goal: Top 20 Streamed Artists"
   ]
  },
  {
   "cell_type": "code",
   "execution_count": 33,
   "id": "5ea63bd3",
   "metadata": {},
   "outputs": [
    {
     "data": {
      "text/plain": [
       "Kodak Black     24\n",
       "Quavo           20\n",
       "EST Gee         16\n",
       "Lil Baby        15\n",
       "DDG             15\n",
       "                ..\n",
       "Joji             1\n",
       "JVKE             1\n",
       "Oxlade           1\n",
       "d4vd             1\n",
       "Lukas Graham     1\n",
       "Name: artistName, Length: 127, dtype: int64"
      ]
     },
     "execution_count": 33,
     "metadata": {},
     "output_type": "execute_result"
    }
   ],
   "source": [
    "pd.value_counts(df['artistName'])"
   ]
  },
  {
   "cell_type": "code",
   "execution_count": 34,
   "id": "b2d68089",
   "metadata": {},
   "outputs": [
    {
     "data": {
      "text/plain": [
       "Kodak Black               24\n",
       "Quavo                     20\n",
       "EST Gee                   16\n",
       "Lil Baby                  15\n",
       "DDG                       15\n",
       "Harry Styles               7\n",
       "Moneybagg Yo               7\n",
       "Roddy Ricch                6\n",
       "NAV                        6\n",
       "DaBaby                     6\n",
       "A Boogie Wit da Hoodie     6\n",
       "Camila Cabello             5\n",
       "George Ezra                5\n",
       "G Herbo                    5\n",
       "Drake                      5\n",
       "DJ Khaled                  5\n",
       "Pharrell Williams          4\n",
       "Gucci Mane                 4\n",
       "Offset                     4\n",
       "Sigala                     4\n",
       "Name: artistName, dtype: int64"
      ]
     },
     "execution_count": 34,
     "metadata": {},
     "output_type": "execute_result"
    }
   ],
   "source": [
    "pd.value_counts(df['artistName']).head(20)"
   ]
  },
  {
   "cell_type": "code",
   "execution_count": 38,
   "id": "39edfb56",
   "metadata": {},
   "outputs": [
    {
     "data": {
      "image/png": "[encoded data removed]",
      "text/plain": [
       "<Figure size 640x480 with 1 Axes>"
      ]
     },
     "metadata": {},
     "output_type": "display_data"
    }
   ],
   "source": [
    "pd.value_counts(df['artistName']).head(20).plot(kind='barh', color='forestgreen')\n",
    "plt.xticks(rotation=45, ha='right')\n",
    "plt.title('May.9-Oct.14,2022 | Top 20 | Streamed Artists')\n",
    "plt.ylabel('Artists')\n",
    "plt.xlabel('Count')\n",
    "figsize=(100,100)"
   ]
  },
  {
   "cell_type": "code",
   "execution_count": null,
   "id": "23c7fe83",
   "metadata": {},
   "outputs": [],
   "source": [
    "I dont have play lists "
   ]
  }
 ],
 "metadata": {
  "kernelspec": {
   "display_name": "Python 3 (ipykernel)",
   "language": "python",
   "name": "python3"
  },
  "language_info": {
   "codemirror_mode": {
    "name": "ipython",
    "version": 3
   },
   "file_extension": ".py",
   "mimetype": "text/x-python",
   "name": "python",
   "nbconvert_exporter": "python",
   "pygments_lexer": "ipython3",
   "version": "3.11.0"
  }
 },
 "nbformat": 4,
 "nbformat_minor": 5
}
